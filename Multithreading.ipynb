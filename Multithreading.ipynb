{
 "cells": [
  {
   "cell_type": "markdown",
   "id": "29a43888-478b-4415-abaf-3b477f21b049",
   "metadata": {
    "tags": []
   },
   "source": [
    "# Multithreading Assignment "
   ]
  },
  {
   "cell_type": "markdown",
   "id": "5c7336f2-9881-4309-8ba0-6b37d4a91dd5",
   "metadata": {},
   "source": [
    "#### Q1. \n",
    "#### What is multithreading in python? Why is it used? Name the module used to handle threads in python ?"
   ]
  },
  {
   "cell_type": "markdown",
   "id": "da15ed1b-72fb-472c-bf40-c8a20d9a4719",
   "metadata": {},
   "source": [
    "#### Ans. - \n",
    "##### Multithreading is a process where you use single core processor and execute multiple threads. it is used when you want to process single line of command with some cnage of variable or values in multiple threads. \"threading\" is used in Python"
   ]
  },
  {
   "cell_type": "markdown",
   "id": "02dd4b27-ce34-4288-915e-78f14ccb2e7f",
   "metadata": {},
   "source": [
    "#### Q2. \n",
    "#### Why threading module used? rite the use of the following functions : \n",
    "#### 1. activecount( )\n",
    "#### 2. currentthread( )\n",
    "#### 3. enumerate( )     ? "
   ]
  },
  {
   "cell_type": "markdown",
   "id": "0c834343-483e-4c76-854a-754efa109f16",
   "metadata": {},
   "source": [
    "#### Ans. -"
   ]
  },
  {
   "cell_type": "markdown",
   "id": "62ff1125-5cf1-40d2-b909-030264bc11c6",
   "metadata": {},
   "source": [
    "#### 1. activecount( ) - is used to know how many threads are active in your application.\n",
    "#### 2. currentthread( ) -  is used to get the current Thread object.\n",
    "#### 3. enumerate( ) - is a to return a list of all Thread objects currently alive."
   ]
  },
  {
   "cell_type": "markdown",
   "id": "48b4ef9a-e53c-4890-8108-ad7566358d70",
   "metadata": {},
   "source": [
    "#### Q3. Explain the following functions :\n",
    "\n",
    "#### 1. run( )\n",
    "#### 2. start( )\n",
    "#### 3. join( )\n",
    "#### 4. isAlive( ) ?\n"
   ]
  },
  {
   "cell_type": "markdown",
   "id": "3b4b043c-0e0f-471c-b19e-5dbe83f80535",
   "metadata": {},
   "source": [
    "#### Ans."
   ]
  },
  {
   "cell_type": "markdown",
   "id": "2001da2f-2ebb-430c-b04b-db489540cc70",
   "metadata": {},
   "source": [
    "#### 1.'run' - run is a method that can be defined within a class that inherits from Python's threading.Thread or multiprocessing.Process. \n",
    "#### 2.'start' - is a method available in Python's threading.Thread and multiprocessing. Process classes It is used to begin the execution of a new thread or process.is a method available in Python's threading.\n",
    "#### 3.'join' - is a method provided by Python's threading.Thread and multiprocessing.Process classes that allows one thread or process to wait for another thread or process to complete its execution before proceeding.is a method provided by Python's threading.Thread and multiprocessing.Process classes that allows one thread or process to wait for another thread or process to complete its execution before proceeding.\n",
    "#### 4.'isAlive' -  is a method available in Python's threading.Thread and multiprocessing.Process classes to check if a thread or process is currently active and running. is a method available in Python's threading.Thread and multiprocessing.Process classes to check if a thread or process is currently active and running."
   ]
  },
  {
   "cell_type": "markdown",
   "id": "4a4e1962-1707-4eae-a2ec-6053e64c22db",
   "metadata": {},
   "source": [
    "#### Q4. Write a python program to create two threads. Thread one must print the list of squares and thread two must print the list of cubes ? "
   ]
  },
  {
   "cell_type": "markdown",
   "id": "4f3a900d-a739-4702-9879-2363975a3054",
   "metadata": {},
   "source": [
    "#### Ans. "
   ]
  },
  {
   "cell_type": "code",
   "execution_count": 1,
   "id": "5801075d-40dd-44e9-976b-c9ff9a6ecf1d",
   "metadata": {},
   "outputs": [
    {
     "name": "stdout",
     "output_type": "stream",
     "text": [
      "Square of 1: 1\n",
      "Square of 2: 4\n",
      "Square of 3: 9\n",
      "Square of 4: 16\n",
      "Square of 5: 25\n",
      "Cube of 1: 1\n",
      "Cube of 2: 8\n",
      "Cube of 3: 27\n",
      "Cube of 4: 64\n",
      "Cube of 5: 125\n",
      "Both threads have finished.\n"
     ]
    }
   ],
   "source": [
    "\n",
    "import threading\n",
    "\n",
    "# Function to print a list of squares\n",
    "def print_squares():\n",
    "    for i in range(1, 6):\n",
    "        print(f\"Square of {i}: {i*i}\")\n",
    "\n",
    "# Function to print a list of cubes\n",
    "def print_cubes():\n",
    "    for i in range(1, 6):\n",
    "        print(f\"Cube of {i}: {i*i*i}\")\n",
    "\n",
    "# Create two threads\n",
    "thread1 = threading.Thread(target=print_squares)\n",
    "thread2 = threading.Thread(target=print_cubes)\n",
    "\n",
    "# Start the threads\n",
    "thread1.start()\n",
    "thread2.start()\n",
    "\n",
    "# Wait for both threads to finish\n",
    "thread1.join()\n",
    "thread2.join()\n",
    "\n",
    "print(\"Both threads have finished.\")"
   ]
  },
  {
   "cell_type": "markdown",
   "id": "f5d2df00-45dc-4102-b798-04385bc1e040",
   "metadata": {},
   "source": [
    "#### Q5. State advantages and disadvantages of multithreading ? "
   ]
  },
  {
   "cell_type": "markdown",
   "id": "edba2191-ffb4-491e-b20c-20942e8fe103",
   "metadata": {},
   "source": [
    "#### Ans. \n",
    "#### Advantages of Multithreading:\n",
    "#### Improved Responsiveness\n",
    "#### Faster Execution\n",
    "#### Parallelism on Multi-Core CPUs\n",
    "#### Disadvantages of Multithreading:\n",
    "#### Complexity"
   ]
  },
  {
   "cell_type": "markdown",
   "id": "f414b446-97c5-4ecd-9f56-86db21da1c70",
   "metadata": {},
   "source": [
    "#### Q5 Explain deadlocks and race conditions ? "
   ]
  },
  {
   "cell_type": "markdown",
   "id": "11c339f7-1c04-49c5-83fc-402ae2f6cf65",
   "metadata": {},
   "source": [
    "#### Ans. \n",
    "#### 1. Deadlocks: \n",
    "#### A deadlock is a situation in which two or more threads or processes are unable to proceed with their execution because each is waiting for the other(s) to release a resource.\n",
    "#### 2. Race Conditions:\n",
    "#### A race condition is a situation in which the behavior of a program depends on the relative timing of events, particularly the order in which threads or processes execute."
   ]
  }
 ],
 "metadata": {
  "kernelspec": {
   "display_name": "Python 3 (ipykernel)",
   "language": "python",
   "name": "python3"
  },
  "language_info": {
   "codemirror_mode": {
    "name": "ipython",
    "version": 3
   },
   "file_extension": ".py",
   "mimetype": "text/x-python",
   "name": "python",
   "nbconvert_exporter": "python",
   "pygments_lexer": "ipython3",
   "version": "3.10.8"
  }
 },
 "nbformat": 4,
 "nbformat_minor": 5
}
